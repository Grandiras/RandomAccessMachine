{
 "cells": [
  {
   "cell_type": "markdown",
   "metadata": {},
   "source": [
    "# Setup"
   ]
  },
  {
   "cell_type": "code",
   "execution_count": null,
   "metadata": {
    "dotnet_interactive": {
     "language": "csharp"
    },
    "polyglot_notebook": {
     "kernelName": "csharp"
    }
   },
   "outputs": [],
   "source": [
    "// Install the ScottPlot NuGet package\n",
    "#r \"nuget:ScottPlot, 5.0.*\"\n",
    "\n",
    "// Setup a custom formatter to display plots as images\n",
    "using Microsoft.DotNet.Interactive.Formatting;\n",
    "Formatter.Register(typeof(ScottPlot.Plot), (p, w) => \n",
    "    w.Write(((ScottPlot.Plot)p).GetImageHtml(400, 300)), HtmlFormatter.MimeType);"
   ]
  },
  {
   "cell_type": "markdown",
   "metadata": {},
   "source": [
    "# Content"
   ]
  },
  {
   "cell_type": "markdown",
   "metadata": {
    "dotnet_interactive": {
     "language": "csharp"
    },
    "polyglot_notebook": {
     "kernelName": "csharp"
    },
    "slideshow": {
     "slide_type": "slide"
    }
   },
   "source": [
    "### Pyramid volume based on vectors\n",
    "\n",
    "To calculate the volume of a pyramid based on three vectors, we can use the formula:\n",
    "\n",
    "$\\text{Volume} = \\frac{1}{6} \\left| \\mathbf{AD} \\cdot (\\mathbf{AB} \\times \\mathbf{AC}) \\right| $\n",
    "\n",
    "where $\\mathbf{AB}, \\mathbf{AC}, and\\ \\mathbf{AD}$ are the vectors representing the sides of the pyramid. The dot product $\\cdot$ represents the scalar product, and the cross product $\\times$ represents the vector product.\n",
    "\n",
    "By substituting the values of the vectors into the formula, we can calculate the volume of the pyramid."
   ]
  },
  {
   "cell_type": "code",
   "execution_count": null,
   "metadata": {
    "dotnet_interactive": {
     "language": "csharp"
    },
    "polyglot_notebook": {
     "kernelName": "csharp"
    }
   },
   "outputs": [],
   "source": [
    "using System.Numerics;\n",
    "\n",
    "var a = new Vector3(4, 0, 0);\n",
    "var b = new Vector3(3, 3, -1);\n",
    "var c = new Vector3(4, 1, 3);\n",
    "var d = new Vector3(2, 2, 0);\n",
    "\n",
    "var AB = b - a;\n",
    "var AC = c - a;\n",
    "var AD = d - a;\n",
    "\n",
    "var volume = Math.Abs(Vector3.Dot(AD, Vector3.Cross(AB, AC))) / 6;\n",
    "\n",
    "Console.WriteLine(\"The volume of the pyramid is: \" + volume);"
   ]
  }
 ],
 "metadata": {
  "kernelspec": {
   "display_name": ".NET (C#)",
   "language": "C#",
   "name": ".net-csharp"
  },
  "polyglot_notebook": {
   "kernelInfo": {
    "defaultKernelName": "csharp",
    "items": [
     {
      "aliases": [],
      "languageName": "csharp",
      "name": "csharp"
     }
    ]
   }
  }
 },
 "nbformat": 4,
 "nbformat_minor": 2
}
