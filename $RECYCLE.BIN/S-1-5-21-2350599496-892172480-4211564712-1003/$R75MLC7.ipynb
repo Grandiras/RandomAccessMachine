{
 "cells": [
  {
   "cell_type": "markdown",
   "metadata": {},
   "source": [
    "# Standing Waves\n"
   ]
  },
  {
   "cell_type": "code",
   "execution_count": 1,
   "metadata": {
    "dotnet_interactive": {
     "language": "csharp"
    },
    "polyglot_notebook": {
     "kernelName": "csharp"
    },
    "vscode": {
     "languageId": "polyglot-notebook"
    }
   },
   "outputs": [
    {
     "name": "stdout",
     "output_type": "stream",
     "text": [
      "Wave velocity: 4.5 m/s\r\n"
     ]
    }
   ],
   "source": [
    "var length = 0.09; // length of the spring in meters\n",
    "var frequency = 50; // frequency in Hz\n",
    "\n",
    "var waveVelocity = length * frequency;\n",
    "Console.WriteLine(\"Wave velocity: \" + waveVelocity + \" m/s\");\n"
   ]
  }
 ],
 "metadata": {
  "kernelspec": {
   "display_name": ".NET (C#)",
   "language": "C#",
   "name": ".net-csharp"
  },
  "language_info": {
   "name": "python"
  },
  "polyglot_notebook": {
   "kernelInfo": {
    "defaultKernelName": "csharp",
    "items": [
     {
      "aliases": [],
      "name": "csharp"
     }
    ]
   }
  }
 },
 "nbformat": 4,
 "nbformat_minor": 2
}
